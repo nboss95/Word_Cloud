
!pip install wordcloud
!pip install fileupload
!pip install ipywidgets
!jupyter nbextension install --py --user fileupload
!jupyter nbextension enable --py fileupload

import wordcloud
import numpy as np
from matplotlib import pyplot as plt
from IPython.display import display
import fileupload
import io
import sys

# Uploader widget callback
def _cb(change):
    decoded = io.StringIO(change['owner'].data.decode('utf-8'))
    filename = change['owner'].filename
    print('Uploaded `{}` ({:.2f} kB)'.format(filename, len(decoded.read()) / 2 **10))
    file_contents = decoded.getvalue()
    return file_contents

_upload_widget.observe(_cb, names='data')
display(_upload_widget)
  
# Word frequency calculation function 
def calculate_frequencies(file_contents):
    # Punctuations and uninteresting words list
    punctuations = '''!()-[]{};:'\"\\,<>./?@#$%^&*_~'''
    uninteresting_words = ["the", "a", "to", "if", "is", "it", "of", "and", "or", "an", "as", "i", "me", "my", 
                            "we", "our", "ours", "you", "your", "yours", "he", "she", "him", "his", "her", "hers", "its", "they", "them", 
                            "their", "what", "which", "who", "whom", "this", "that", "am", "are", "was", "were", "be", "been", "being", 
                            "have", "has", "had", "do", "does", "did", "but", "at", "by", "with", "from", "here", "when", "where", "how", 
                            "all", "any", "both", "each", "few", "more", "some", "such", "no", "nor", "too", "very", "can", "will", "just"]
  
    #content of textfile is now in file_contents

    
    letter_file = [x for x in file_contents if x not in punctuations and x not in uninteresting_words]
    splitted_file = [letter for letter in letter_file.split() if letter.isalpha()]
    
    result = {}
    for word in splitted_file:
        if word not in result.keys():
            result[word] = 0
        result[word] += 1

    return result
   
    myimage = calculate_frequencies(file_contents)
    plt.imshow(myimage, interpolation = 'nearest')
    plt.axis('off')
    plt.show()
   
